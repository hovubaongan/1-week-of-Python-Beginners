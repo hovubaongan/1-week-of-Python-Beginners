{
 "cells": [
  {
   "cell_type": "code",
   "execution_count": null,
   "metadata": {},
   "outputs": [],
   "source": [
    "message = input(\">\")\n",
    "words = message.split()\n",
    "emojis={\n",
    "    \":)\":\"😃\",\n",
    "    \":(\":\"😞\",\n",
    "    \"=3\":\"😸\",\n",
    "    \"T^T\":\"😭\"\n",
    "}\n",
    "output = \"\"\n",
    "for word in words:\n",
    "    output += emojis.get(word, word) + \" \"\n",
    "print(output)"
   ]
  },
  {
   "cell_type": "code",
   "execution_count": null,
   "metadata": {},
   "outputs": [],
   "source": [
    "def emoji_converter():\n",
    "    message = input(\">\")\n",
    "    words = message.split()\n",
    "    emojis={\n",
    "    \":)\":\"😃\",\n",
    "    \":(\":\"😞\",\n",
    "    \"=3\":\"😸\",\n",
    "    \"T^T\":\"😭\"\n",
    "    }\n",
    "    output = \"\"\n",
    "    for word in words:\n",
    "    output += emojis.get(word, word) + \" \"\n",
    "    print(output)"
   ]
  },
  {
   "cell_type": "code",
   "execution_count": null,
   "metadata": {},
   "outputs": [],
   "source": []
  }
 ],
 "metadata": {
  "kernelspec": {
   "display_name": "Python 3",
   "language": "python",
   "name": "python3"
  },
  "language_info": {
   "codemirror_mode": {
    "name": "ipython",
    "version": 3
   },
   "file_extension": ".py",
   "mimetype": "text/x-python",
   "name": "python",
   "nbconvert_exporter": "python",
   "pygments_lexer": "ipython3",
   "version": "3.7.1"
  }
 },
 "nbformat": 4,
 "nbformat_minor": 2
}
